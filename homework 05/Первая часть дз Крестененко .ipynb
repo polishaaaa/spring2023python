{
 "cells": [
  {
   "cell_type": "markdown",
   "id": "96c6f9ff",
   "metadata": {},
   "source": [
    "Четные индексы"
   ]
  },
  {
   "cell_type": "code",
   "execution_count": 4,
   "id": "3d8fbd40",
   "metadata": {},
   "outputs": [
    {
     "name": "stdout",
     "output_type": "stream",
     "text": [
      "1 2 3 4 5\n",
      "1 3 5\n"
     ]
    }
   ],
   "source": [
    "print(' '.join(input().split()[::2]))"
   ]
  },
  {
   "cell_type": "markdown",
   "id": "38a2a849",
   "metadata": {},
   "source": [
    "Наибольший элемент и его индекс"
   ]
  },
  {
   "cell_type": "code",
   "execution_count": 5,
   "id": "716f5912",
   "metadata": {},
   "outputs": [
    {
     "name": "stdout",
     "output_type": "stream",
     "text": [
      "1 2 3 2 1\n"
     ]
    }
   ],
   "source": [
    "a=list(map(int,input().split()))"
   ]
  },
  {
   "cell_type": "code",
   "execution_count": 6,
   "id": "b9bffa9b",
   "metadata": {},
   "outputs": [
    {
     "name": "stdout",
     "output_type": "stream",
     "text": [
      "3 2\n"
     ]
    }
   ],
   "source": [
    "print(max(a),a.index(max(a)))"
   ]
  },
  {
   "cell_type": "markdown",
   "id": "5a471ec2",
   "metadata": {},
   "source": [
    "Вывести в обратном порядке"
   ]
  },
  {
   "cell_type": "code",
   "execution_count": 7,
   "id": "c13a2280",
   "metadata": {},
   "outputs": [
    {
     "name": "stdout",
     "output_type": "stream",
     "text": [
      "1 2 3 4 5\n",
      "5 4 3 2 1\n"
     ]
    }
   ],
   "source": [
    "print(' '.join(input().split()[::-1]))"
   ]
  },
  {
   "cell_type": "markdown",
   "id": "1c6a348b",
   "metadata": {},
   "source": [
    "Переставить соседние"
   ]
  },
  {
   "cell_type": "code",
   "execution_count": 8,
   "id": "dc18efa9",
   "metadata": {},
   "outputs": [
    {
     "name": "stdout",
     "output_type": "stream",
     "text": [
      "1 2 3 4 5\n"
     ]
    }
   ],
   "source": [
    "a = input().split()"
   ]
  },
  {
   "cell_type": "code",
   "execution_count": 9,
   "id": "e0d7e97a",
   "metadata": {},
   "outputs": [],
   "source": [
    "a[1::2], a[:-1:2] = a[:-1:2], a[1::2]"
   ]
  },
  {
   "cell_type": "code",
   "execution_count": 10,
   "id": "fa1fb20e",
   "metadata": {},
   "outputs": [
    {
     "name": "stdout",
     "output_type": "stream",
     "text": [
      "2 1 4 3 5\n"
     ]
    }
   ],
   "source": [
    "print(' '.join(a))"
   ]
  },
  {
   "cell_type": "markdown",
   "id": "d1528ef0",
   "metadata": {},
   "source": [
    "Циклический сдвиг вправо"
   ]
  },
  {
   "cell_type": "code",
   "execution_count": 11,
   "id": "eae06503",
   "metadata": {},
   "outputs": [
    {
     "name": "stdout",
     "output_type": "stream",
     "text": [
      "1 2 3 4 5\n"
     ]
    }
   ],
   "source": [
    "a = input().split()"
   ]
  },
  {
   "cell_type": "code",
   "execution_count": 12,
   "id": "d651c682",
   "metadata": {},
   "outputs": [
    {
     "name": "stdout",
     "output_type": "stream",
     "text": [
      "5 1 2 3 4\n"
     ]
    }
   ],
   "source": [
    "print(' '.join(a[-1::]+a[:-1]))"
   ]
  },
  {
   "cell_type": "markdown",
   "id": "d1d08400",
   "metadata": {},
   "source": [
    "Удалить элемент"
   ]
  },
  {
   "cell_type": "code",
   "execution_count": 13,
   "id": "6b033176",
   "metadata": {},
   "outputs": [
    {
     "name": "stdout",
     "output_type": "stream",
     "text": [
      "7 6 5 4 3 2 1\n"
     ]
    }
   ],
   "source": [
    "a = input().split()\n"
   ]
  },
  {
   "cell_type": "code",
   "execution_count": 14,
   "id": "da86fe61",
   "metadata": {},
   "outputs": [
    {
     "name": "stdout",
     "output_type": "stream",
     "text": [
      "2\n"
     ]
    }
   ],
   "source": [
    "s=int(input())"
   ]
  },
  {
   "cell_type": "code",
   "execution_count": 15,
   "id": "ff4a1cf0",
   "metadata": {},
   "outputs": [
    {
     "name": "stdout",
     "output_type": "stream",
     "text": [
      "7 6 4 3 2 1\n"
     ]
    }
   ],
   "source": [
    "print(' '.join(a[0:s]+a[s+1:]))"
   ]
  },
  {
   "cell_type": "markdown",
   "id": "c294c880",
   "metadata": {},
   "source": [
    "Вставить элемент"
   ]
  },
  {
   "cell_type": "code",
   "execution_count": 16,
   "id": "e97fffff",
   "metadata": {},
   "outputs": [
    {
     "name": "stdout",
     "output_type": "stream",
     "text": [
      "7 6 5 4 3 2 1\n"
     ]
    }
   ],
   "source": [
    "a = input().split()"
   ]
  },
  {
   "cell_type": "code",
   "execution_count": 17,
   "id": "0ba8c94f",
   "metadata": {},
   "outputs": [
    {
     "name": "stdout",
     "output_type": "stream",
     "text": [
      "2 0\n"
     ]
    }
   ],
   "source": [
    "n, elem = map(int, input().split())"
   ]
  },
  {
   "cell_type": "code",
   "execution_count": 23,
   "id": "d7a5ad9b",
   "metadata": {},
   "outputs": [
    {
     "name": "stdout",
     "output_type": "stream",
     "text": [
      "7 6 0 5 4 3 2 1\n"
     ]
    }
   ],
   "source": [
    "print(' '.join(a[0:n]+list(str(elem))+a[n:]))"
   ]
  },
  {
   "cell_type": "markdown",
   "id": "0cdd4755",
   "metadata": {},
   "source": [
    "Большой сдвиг"
   ]
  },
  {
   "cell_type": "code",
   "execution_count": 24,
   "id": "a1868406",
   "metadata": {},
   "outputs": [
    {
     "name": "stdout",
     "output_type": "stream",
     "text": [
      "5 3 7 4 6 \n",
      "3\n"
     ]
    }
   ],
   "source": [
    "a, n = input().split(), int(input())"
   ]
  },
  {
   "cell_type": "code",
   "execution_count": 25,
   "id": "9990582f",
   "metadata": {},
   "outputs": [
    {
     "name": "stdout",
     "output_type": "stream",
     "text": [
      "7 4 6 5 3\n"
     ]
    }
   ],
   "source": [
    "print(' '.join(a[-n::] + a[:-n]))"
   ]
  }
 ],
 "metadata": {
  "kernelspec": {
   "display_name": "Python 3 (ipykernel)",
   "language": "python",
   "name": "python3"
  },
  "language_info": {
   "codemirror_mode": {
    "name": "ipython",
    "version": 3
   },
   "file_extension": ".py",
   "mimetype": "text/x-python",
   "name": "python",
   "nbconvert_exporter": "python",
   "pygments_lexer": "ipython3",
   "version": "3.9.12"
  }
 },
 "nbformat": 4,
 "nbformat_minor": 5
}
